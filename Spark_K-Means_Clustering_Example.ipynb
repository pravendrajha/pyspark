{
 "cells": [
  {
   "cell_type": "code",
   "execution_count": 1,
   "metadata": {},
   "outputs": [],
   "source": [
    "from __future__ import print_function\n",
    "import findspark\n",
    "findspark.init()\n",
    "findspark.find()\n",
    "import pyspark\n",
    "from pyspark.sql import SparkSession\n",
    "from pyspark.ml.clustering import KMeans\n",
    "from pyspark.ml.evaluation import ClusteringEvaluator\n",
    "from pyspark.ml.feature import VectorAssembler\n",
    "from pyspark.sql.functions import col"
   ]
  },
  {
   "cell_type": "code",
   "execution_count": 2,
   "metadata": {},
   "outputs": [],
   "source": [
    "# create a spark Sesssion \n",
    "spark = SparkSession.builder.appName(\"KmeansClusterDemo\").getOrCreate()\n"
   ]
  },
  {
   "cell_type": "markdown",
   "metadata": {},
   "source": [
    "### Read the file "
   ]
  },
  {
   "cell_type": "code",
   "execution_count": 3,
   "metadata": {},
   "outputs": [],
   "source": [
    "# download https://www.kaggle.com/shwetabh123/mall-customers\n",
    "\n",
    "data  = spark.read.option(\"header\", \"true\").option(\"inferSchma\",\"true\").csv(\"Mall_Customers.csv\")"
   ]
  },
  {
   "cell_type": "code",
   "execution_count": 9,
   "metadata": {},
   "outputs": [
    {
     "name": "stdout",
     "output_type": "stream",
     "text": [
      "root\n",
      " |-- CustomerID: string (nullable = true)\n",
      " |-- Genre: string (nullable = true)\n",
      " |-- Age: string (nullable = true)\n",
      " |-- Annual Income (k$): string (nullable = true)\n",
      " |-- Spending Score (1-100): string (nullable = true)\n",
      "\n"
     ]
    }
   ],
   "source": [
    "data.printSchema()"
   ]
  },
  {
   "cell_type": "code",
   "execution_count": 4,
   "metadata": {
    "scrolled": true
   },
   "outputs": [
    {
     "name": "stdout",
     "output_type": "stream",
     "text": [
      "+----------+------+---+------------------+----------------------+\n",
      "|CustomerID| Genre|Age|Annual Income (k$)|Spending Score (1-100)|\n",
      "+----------+------+---+------------------+----------------------+\n",
      "|      0001|  Male| 19|                15|                    39|\n",
      "|      0002|  Male| 21|                15|                    81|\n",
      "|      0003|Female| 20|                16|                     6|\n",
      "|      0004|Female| 23|                16|                    77|\n",
      "|      0005|Female| 31|                17|                    40|\n",
      "|      0006|Female| 22|                17|                    76|\n",
      "|      0007|Female| 35|                18|                     6|\n",
      "|      0008|Female| 23|                18|                    94|\n",
      "|      0009|  Male| 64|                19|                     3|\n",
      "|      0010|Female| 30|                19|                    72|\n",
      "|      0011|  Male| 67|                19|                    14|\n",
      "|      0012|Female| 35|                19|                    99|\n",
      "|      0013|Female| 58|                20|                    15|\n",
      "|      0014|Female| 24|                20|                    77|\n",
      "|      0015|  Male| 37|                20|                    13|\n",
      "|      0016|  Male| 22|                20|                    79|\n",
      "|      0017|Female| 35|                21|                    35|\n",
      "|      0018|  Male| 20|                21|                    66|\n",
      "|      0019|  Male| 52|                23|                    29|\n",
      "|      0020|Female| 35|                23|                    98|\n",
      "+----------+------+---+------------------+----------------------+\n",
      "only showing top 20 rows\n",
      "\n"
     ]
    }
   ],
   "source": [
    "data.show()"
   ]
  },
  {
   "cell_type": "code",
   "execution_count": 6,
   "metadata": {},
   "outputs": [
    {
     "name": "stdout",
     "output_type": "stream",
     "text": [
      "['Annual Income (k$)', 'Spending Score (1-100)']\n",
      "+------------------+----------------------+-----------+\n",
      "|Annual Income (k$)|Spending Score (1-100)|   features|\n",
      "+------------------+----------------------+-----------+\n",
      "|              15.0|                  39.0|[15.0,39.0]|\n",
      "|              15.0|                  81.0|[15.0,81.0]|\n",
      "|              16.0|                   6.0| [16.0,6.0]|\n",
      "|              16.0|                  77.0|[16.0,77.0]|\n",
      "|              17.0|                  40.0|[17.0,40.0]|\n",
      "|              17.0|                  76.0|[17.0,76.0]|\n",
      "|              18.0|                   6.0| [18.0,6.0]|\n",
      "|              18.0|                  94.0|[18.0,94.0]|\n",
      "|              19.0|                   3.0| [19.0,3.0]|\n",
      "|              19.0|                  72.0|[19.0,72.0]|\n",
      "|              19.0|                  14.0|[19.0,14.0]|\n",
      "|              19.0|                  99.0|[19.0,99.0]|\n",
      "|              20.0|                  15.0|[20.0,15.0]|\n",
      "|              20.0|                  77.0|[20.0,77.0]|\n",
      "|              20.0|                  13.0|[20.0,13.0]|\n",
      "|              20.0|                  79.0|[20.0,79.0]|\n",
      "|              21.0|                  35.0|[21.0,35.0]|\n",
      "|              21.0|                  66.0|[21.0,66.0]|\n",
      "|              23.0|                  29.0|[23.0,29.0]|\n",
      "|              23.0|                  98.0|[23.0,98.0]|\n",
      "+------------------+----------------------+-----------+\n",
      "only showing top 20 rows\n",
      "\n"
     ]
    }
   ],
   "source": [
    "# convert the fileds into feature \n",
    "\n",
    "cols = data.select(\"Annual Income (k$)\",\"Spending Score (1-100)\").columns\n",
    "\n",
    "print(cols)\n",
    "\n",
    "clean_df = data.select(\"Annual Income (k$)\",\"Spending Score (1-100)\")\n",
    "\n",
    "clean_df = clean_df.select(*(col(c).cast(\"float\").alias(c) for c in cols))\n",
    "\n",
    "vecAssembler = VectorAssembler(inputCols=cols, outputCol=\"features\")\n",
    "\n",
    "vector_DF =   vecAssembler.transform(clean_df)\n",
    "\n",
    "vector_DF.show()\n",
    "\n"
   ]
  },
  {
   "cell_type": "code",
   "execution_count": 7,
   "metadata": {},
   "outputs": [
    {
     "name": "stdout",
     "output_type": "stream",
     "text": [
      "+------------------+----------------------+-----------+----------+\n",
      "|Annual Income (k$)|Spending Score (1-100)|   features|prediction|\n",
      "+------------------+----------------------+-----------+----------+\n",
      "|              15.0|                  39.0|[15.0,39.0]|         5|\n",
      "|              15.0|                  81.0|[15.0,81.0]|         1|\n",
      "|              16.0|                   6.0| [16.0,6.0]|         5|\n",
      "|              16.0|                  77.0|[16.0,77.0]|         1|\n",
      "|              17.0|                  40.0|[17.0,40.0]|         5|\n",
      "|              17.0|                  76.0|[17.0,76.0]|         1|\n",
      "|              18.0|                   6.0| [18.0,6.0]|         5|\n",
      "|              18.0|                  94.0|[18.0,94.0]|         1|\n",
      "|              19.0|                   3.0| [19.0,3.0]|         5|\n",
      "|              19.0|                  72.0|[19.0,72.0]|         1|\n",
      "|              19.0|                  14.0|[19.0,14.0]|         5|\n",
      "|              19.0|                  99.0|[19.0,99.0]|         1|\n",
      "|              20.0|                  15.0|[20.0,15.0]|         5|\n",
      "|              20.0|                  77.0|[20.0,77.0]|         1|\n",
      "|              20.0|                  13.0|[20.0,13.0]|         5|\n",
      "|              20.0|                  79.0|[20.0,79.0]|         1|\n",
      "|              21.0|                  35.0|[21.0,35.0]|         5|\n",
      "|              21.0|                  66.0|[21.0,66.0]|         1|\n",
      "|              23.0|                  29.0|[23.0,29.0]|         5|\n",
      "|              23.0|                  98.0|[23.0,98.0]|         1|\n",
      "+------------------+----------------------+-----------+----------+\n",
      "only showing top 20 rows\n",
      "\n"
     ]
    }
   ],
   "source": [
    "#Trains a k-means model.\n",
    "kmeans = KMeans().setK(6).setSeed(1)\n",
    "model = kmeans.fit(vector_DF)\n",
    "\n",
    "predictions = model.transform(vector_DF)\n",
    "predictions.show()\n"
   ]
  },
  {
   "cell_type": "code",
   "execution_count": 8,
   "metadata": {
    "scrolled": true
   },
   "outputs": [
    {
     "name": "stdout",
     "output_type": "stream",
     "text": [
      "Silhouette with squared euclidean distance = 0.6283328590841997\n",
      "Cluster Centers: \n",
      "[63.72093023 46.1627907 ]\n",
      "[25.0952381  80.04761905]\n",
      "[86.53846154 82.12820513]\n",
      "[89.40625 15.59375]\n",
      "[47.29545455 51.40909091]\n",
      "[25.14285714 19.52380952]\n"
     ]
    }
   ],
   "source": [
    "#\n",
    "\n",
    "evaluator = ClusteringEvaluator()\n",
    "\n",
    "silhouette = evaluator.evaluate(predictions)\n",
    "print(\"Silhouette with squared euclidean distance = \" + str(silhouette))\n",
    "\n",
    "# Shows the result.\n",
    "print(\"Cluster Centers: \")\n",
    "centers = model.clusterCenters()\n",
    "for center in centers:\n",
    "    print(center)"
   ]
  }
 ],
 "metadata": {
  "kernelspec": {
   "display_name": "Python 3",
   "language": "python",
   "name": "python3"
  },
  "language_info": {
   "codemirror_mode": {
    "name": "ipython",
    "version": 3
   },
   "file_extension": ".py",
   "mimetype": "text/x-python",
   "name": "python",
   "nbconvert_exporter": "python",
   "pygments_lexer": "ipython3",
   "version": "3.7.4"
  }
 },
 "nbformat": 4,
 "nbformat_minor": 2
}
