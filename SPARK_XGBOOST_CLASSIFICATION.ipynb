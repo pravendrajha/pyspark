{
 "cells": [
  {
   "cell_type": "code",
   "execution_count": 25,
   "metadata": {},
   "outputs": [],
   "source": [
    "from __future__ import print_function\n",
    "import findspark\n",
    "findspark.init()\n",
    "findspark.find()\n",
    "import pyspark\n",
    "findspark.find()\n",
    "from pyspark.sql import SparkSession\n",
    "from pyspark.ml.feature import VectorAssembler\n",
    "from pyspark.ml.feature import StandardScaler\n",
    "from pyspark.ml.evaluation import MulticlassClassificationEvaluator\n",
    "from pyspark.ml.feature import StringIndexer\n",
    "from pyspark.ml.classification import GBTClassifier"
   ]
  },
  {
   "cell_type": "code",
   "execution_count": 27,
   "metadata": {},
   "outputs": [],
   "source": [
    "# create spark session\n",
    "spark = SparkSession.builder.appName(\"XGBoost_Classifier_Demo\").getOrCreate()"
   ]
  },
  {
   "cell_type": "code",
   "execution_count": 28,
   "metadata": {},
   "outputs": [],
   "source": [
    "#Load the data \n",
    "df = spark.read.csv(\"diabetes.csv\",header=True)"
   ]
  },
  {
   "cell_type": "code",
   "execution_count": 86,
   "metadata": {},
   "outputs": [
    {
     "name": "stdout",
     "output_type": "stream",
     "text": [
      "(768, 9)\n"
     ]
    }
   ],
   "source": [
    "# shape of df\n",
    "print((df.count(),len(df.columns)))"
   ]
  },
  {
   "cell_type": "code",
   "execution_count": 29,
   "metadata": {
    "scrolled": true
   },
   "outputs": [
    {
     "name": "stdout",
     "output_type": "stream",
     "text": [
      "+-----------+-------+-------------+-------------+-------+----+------------------------+---+-------+\n",
      "|Pregnancies|Glucose|BloodPressure|SkinThickness|Insulin| BMI|DiabetesPedigreeFunction|Age|Outcome|\n",
      "+-----------+-------+-------------+-------------+-------+----+------------------------+---+-------+\n",
      "|          6|    148|           72|           35|      0|33.6|                   0.627| 50|      1|\n",
      "|          1|     85|           66|           29|      0|26.6|                   0.351| 31|      0|\n",
      "|          8|    183|           64|            0|      0|23.3|                   0.672| 32|      1|\n",
      "|          1|     89|           66|           23|     94|28.1|                   0.167| 21|      0|\n",
      "|          0|    137|           40|           35|    168|43.1|                   2.288| 33|      1|\n",
      "|          5|    116|           74|            0|      0|25.6|                   0.201| 30|      0|\n",
      "|          3|     78|           50|           32|     88|  31|                   0.248| 26|      1|\n",
      "|         10|    115|            0|            0|      0|35.3|                   0.134| 29|      0|\n",
      "|          2|    197|           70|           45|    543|30.5|                   0.158| 53|      1|\n",
      "|          8|    125|           96|            0|      0|   0|                   0.232| 54|      1|\n",
      "|          4|    110|           92|            0|      0|37.6|                   0.191| 30|      0|\n",
      "|         10|    168|           74|            0|      0|  38|                   0.537| 34|      1|\n",
      "|         10|    139|           80|            0|      0|27.1|                   1.441| 57|      0|\n",
      "|          1|    189|           60|           23|    846|30.1|                   0.398| 59|      1|\n",
      "|          5|    166|           72|           19|    175|25.8|                   0.587| 51|      1|\n",
      "|          7|    100|            0|            0|      0|  30|                   0.484| 32|      1|\n",
      "|          0|    118|           84|           47|    230|45.8|                   0.551| 31|      1|\n",
      "|          7|    107|           74|            0|      0|29.6|                   0.254| 31|      1|\n",
      "|          1|    103|           30|           38|     83|43.3|                   0.183| 33|      0|\n",
      "|          1|    115|           70|           30|     96|34.6|                   0.529| 32|      1|\n",
      "+-----------+-------+-------------+-------------+-------+----+------------------------+---+-------+\n",
      "only showing top 20 rows\n",
      "\n"
     ]
    }
   ],
   "source": [
    "#show the data\n",
    "df.show()"
   ]
  },
  {
   "cell_type": "code",
   "execution_count": 31,
   "metadata": {},
   "outputs": [
    {
     "name": "stdout",
     "output_type": "stream",
     "text": [
      "root\n",
      " |-- Pregnancies: string (nullable = true)\n",
      " |-- Glucose: string (nullable = true)\n",
      " |-- BloodPressure: string (nullable = true)\n",
      " |-- SkinThickness: string (nullable = true)\n",
      " |-- Insulin: string (nullable = true)\n",
      " |-- BMI: string (nullable = true)\n",
      " |-- DiabetesPedigreeFunction: string (nullable = true)\n",
      " |-- Age: string (nullable = true)\n",
      " |-- Outcome: string (nullable = true)\n",
      "\n"
     ]
    }
   ],
   "source": [
    "#print the schema\n",
    "df.printSchema()"
   ]
  },
  {
   "cell_type": "code",
   "execution_count": 87,
   "metadata": {},
   "outputs": [
    {
     "name": "stdout",
     "output_type": "stream",
     "text": [
      "+-------+------------------+-----------------+------------------+------------------+------------------+------------------+------------------------+------------------+------------------+\n",
      "|summary|       Pregnancies|          Glucose|     BloodPressure|     SkinThickness|           Insulin|               BMI|DiabetesPedigreeFunction|               Age|           Outcome|\n",
      "+-------+------------------+-----------------+------------------+------------------+------------------+------------------+------------------------+------------------+------------------+\n",
      "|  count|               768|              768|               768|               768|               768|               768|                     768|               768|               768|\n",
      "|   mean|3.8450520833333335|     120.89453125|       69.10546875|20.536458333333332| 79.79947916666667|31.992578124999977|      0.4718763020833327|33.240885416666664|0.3489583333333333|\n",
      "| stddev|  3.36957806269887|31.97261819513622|19.355807170644777|15.952217567727642|115.24400235133803| 7.884160320375441|       0.331328595012775|11.760231540678689| 0.476951377242799|\n",
      "|    min|                 0|                0|                 0|                 0|                 0|                 0|                   0.078|                21|                 0|\n",
      "|    max|                 9|               99|                98|                99|                99|              67.1|                    2.42|                81|                 1|\n",
      "+-------+------------------+-----------------+------------------+------------------+------------------+------------------+------------------------+------------------+------------------+\n",
      "\n"
     ]
    }
   ],
   "source": [
    "# EDA\n",
    "\n",
    "df.describe().show()"
   ]
  },
  {
   "cell_type": "code",
   "execution_count": 42,
   "metadata": {},
   "outputs": [],
   "source": [
    "# convert Sting to float \n",
    "from pyspark.sql.functions import col\n",
    "new_df = df.select(*(col(c).cast(\"float\").alias(c) for c in df.columns))"
   ]
  },
  {
   "cell_type": "code",
   "execution_count": 45,
   "metadata": {},
   "outputs": [
    {
     "name": "stdout",
     "output_type": "stream",
     "text": [
      "root\n",
      " |-- Pregnancies: float (nullable = true)\n",
      " |-- Glucose: float (nullable = true)\n",
      " |-- BloodPressure: float (nullable = true)\n",
      " |-- SkinThickness: float (nullable = true)\n",
      " |-- Insulin: float (nullable = true)\n",
      " |-- BMI: float (nullable = true)\n",
      " |-- DiabetesPedigreeFunction: float (nullable = true)\n",
      " |-- Age: float (nullable = true)\n",
      " |-- Outcome: float (nullable = true)\n",
      "\n"
     ]
    }
   ],
   "source": [
    "#check the data types\n",
    "new_df.printSchema()"
   ]
  },
  {
   "cell_type": "code",
   "execution_count": 49,
   "metadata": {},
   "outputs": [
    {
     "name": "stdout",
     "output_type": "stream",
     "text": [
      "+-----------+-------+-------------+-------------+-------+---+------------------------+---+-------+\n",
      "|Pregnancies|Glucose|BloodPressure|SkinThickness|Insulin|BMI|DiabetesPedigreeFunction|Age|Outcome|\n",
      "+-----------+-------+-------------+-------------+-------+---+------------------------+---+-------+\n",
      "|          0|      0|            0|            0|      0|  0|                       0|  0|      0|\n",
      "+-----------+-------+-------------+-------------+-------+---+------------------------+---+-------+\n",
      "\n"
     ]
    }
   ],
   "source": [
    "#check for missing data \n",
    "from pyspark.sql.functions import col, count, isnan, when\n",
    "new_df.select([count(when(col(c).isNull(), c)).alias(c) for c in new_df.columns]).show()"
   ]
  },
  {
   "cell_type": "code",
   "execution_count": 56,
   "metadata": {},
   "outputs": [],
   "source": [
    "# convert the attributes into single features column\n",
    "featurescols = new_df.drop(\"Outcome\").columns\n",
    "assembler = VectorAssembler(inputCols=featurescols,outputCol=\"features\")\n",
    "\n",
    "df_features= assembler.transform(new_df)\n"
   ]
  },
  {
   "cell_type": "code",
   "execution_count": 57,
   "metadata": {},
   "outputs": [
    {
     "name": "stdout",
     "output_type": "stream",
     "text": [
      "+-----------+-------+-------------+-------------+-------+----+------------------------+----+-------+--------------------+\n",
      "|Pregnancies|Glucose|BloodPressure|SkinThickness|Insulin| BMI|DiabetesPedigreeFunction| Age|Outcome|            features|\n",
      "+-----------+-------+-------------+-------------+-------+----+------------------------+----+-------+--------------------+\n",
      "|        6.0|  148.0|         72.0|         35.0|    0.0|33.6|                   0.627|50.0|    1.0|[6.0,148.0,72.0,3...|\n",
      "|        1.0|   85.0|         66.0|         29.0|    0.0|26.6|                   0.351|31.0|    0.0|[1.0,85.0,66.0,29...|\n",
      "|        8.0|  183.0|         64.0|          0.0|    0.0|23.3|                   0.672|32.0|    1.0|[8.0,183.0,64.0,0...|\n",
      "|        1.0|   89.0|         66.0|         23.0|   94.0|28.1|                   0.167|21.0|    0.0|[1.0,89.0,66.0,23...|\n",
      "|        0.0|  137.0|         40.0|         35.0|  168.0|43.1|                   2.288|33.0|    1.0|[0.0,137.0,40.0,3...|\n",
      "|        5.0|  116.0|         74.0|          0.0|    0.0|25.6|                   0.201|30.0|    0.0|[5.0,116.0,74.0,0...|\n",
      "|        3.0|   78.0|         50.0|         32.0|   88.0|31.0|                   0.248|26.0|    1.0|[3.0,78.0,50.0,32...|\n",
      "|       10.0|  115.0|          0.0|          0.0|    0.0|35.3|                   0.134|29.0|    0.0|[10.0,115.0,0.0,0...|\n",
      "|        2.0|  197.0|         70.0|         45.0|  543.0|30.5|                   0.158|53.0|    1.0|[2.0,197.0,70.0,4...|\n",
      "|        8.0|  125.0|         96.0|          0.0|    0.0| 0.0|                   0.232|54.0|    1.0|[8.0,125.0,96.0,0...|\n",
      "|        4.0|  110.0|         92.0|          0.0|    0.0|37.6|                   0.191|30.0|    0.0|[4.0,110.0,92.0,0...|\n",
      "|       10.0|  168.0|         74.0|          0.0|    0.0|38.0|                   0.537|34.0|    1.0|[10.0,168.0,74.0,...|\n",
      "|       10.0|  139.0|         80.0|          0.0|    0.0|27.1|                   1.441|57.0|    0.0|[10.0,139.0,80.0,...|\n",
      "|        1.0|  189.0|         60.0|         23.0|  846.0|30.1|                   0.398|59.0|    1.0|[1.0,189.0,60.0,2...|\n",
      "|        5.0|  166.0|         72.0|         19.0|  175.0|25.8|                   0.587|51.0|    1.0|[5.0,166.0,72.0,1...|\n",
      "|        7.0|  100.0|          0.0|          0.0|    0.0|30.0|                   0.484|32.0|    1.0|[7.0,100.0,0.0,0....|\n",
      "|        0.0|  118.0|         84.0|         47.0|  230.0|45.8|                   0.551|31.0|    1.0|[0.0,118.0,84.0,4...|\n",
      "|        7.0|  107.0|         74.0|          0.0|    0.0|29.6|                   0.254|31.0|    1.0|[7.0,107.0,74.0,0...|\n",
      "|        1.0|  103.0|         30.0|         38.0|   83.0|43.3|                   0.183|33.0|    0.0|[1.0,103.0,30.0,3...|\n",
      "|        1.0|  115.0|         70.0|         30.0|   96.0|34.6|                   0.529|32.0|    1.0|[1.0,115.0,70.0,3...|\n",
      "+-----------+-------+-------------+-------------+-------+----+------------------------+----+-------+--------------------+\n",
      "only showing top 20 rows\n",
      "\n"
     ]
    }
   ],
   "source": [
    "df_features.show()"
   ]
  },
  {
   "cell_type": "code",
   "execution_count": 61,
   "metadata": {},
   "outputs": [],
   "source": [
    "(train, test) = df_features.randomSplit([0.7, 0.3])"
   ]
  },
  {
   "cell_type": "code",
   "execution_count": 62,
   "metadata": {},
   "outputs": [],
   "source": [
    "gbcls = GBTClassifier(labelCol=\"Outcome\", featuresCol=\"features\")"
   ]
  },
  {
   "cell_type": "code",
   "execution_count": 63,
   "metadata": {},
   "outputs": [],
   "source": [
    "model = gbcls.fit(train)"
   ]
  },
  {
   "cell_type": "code",
   "execution_count": 67,
   "metadata": {},
   "outputs": [],
   "source": [
    "predictions = model.transform(test)"
   ]
  },
  {
   "cell_type": "code",
   "execution_count": 71,
   "metadata": {},
   "outputs": [
    {
     "name": "stdout",
     "output_type": "stream",
     "text": [
      "+--------------------+-------+----------+\n",
      "|            features|Outcome|prediction|\n",
      "+--------------------+-------+----------+\n",
      "|[0.0,57.0,60.0,0....|    0.0|       0.0|\n",
      "|[0.0,67.0,76.0,0....|    0.0|       0.0|\n",
      "|(8,[1,5,6,7],[73....|    0.0|       0.0|\n",
      "|[0.0,86.0,68.0,32...|    0.0|       0.0|\n",
      "|[0.0,93.0,100.0,3...|    0.0|       1.0|\n",
      "|[0.0,95.0,64.0,39...|    0.0|       0.0|\n",
      "|[0.0,95.0,80.0,45...|    0.0|       0.0|\n",
      "|[0.0,95.0,85.0,25...|    1.0|       0.0|\n",
      "|[0.0,98.0,82.0,15...|    0.0|       0.0|\n",
      "|[0.0,100.0,88.0,6...|    0.0|       1.0|\n",
      "|[0.0,101.0,64.0,1...|    0.0|       0.0|\n",
      "|[0.0,102.0,52.0,0...|    0.0|       0.0|\n",
      "|[0.0,102.0,64.0,4...|    0.0|       0.0|\n",
      "|[0.0,102.0,75.0,2...|    0.0|       0.0|\n",
      "|[0.0,111.0,65.0,0...|    0.0|       0.0|\n",
      "|[0.0,113.0,76.0,0...|    1.0|       0.0|\n",
      "|[0.0,113.0,80.0,1...|    0.0|       0.0|\n",
      "|[0.0,117.0,66.0,3...|    0.0|       0.0|\n",
      "|[0.0,117.0,80.0,3...|    0.0|       0.0|\n",
      "|[0.0,120.0,74.0,1...|    0.0|       0.0|\n",
      "+--------------------+-------+----------+\n",
      "only showing top 20 rows\n",
      "\n"
     ]
    }
   ],
   "source": [
    "predictions.select(\"features\",\"Outcome\",\"prediction\").show()"
   ]
  },
  {
   "cell_type": "code",
   "execution_count": 93,
   "metadata": {},
   "outputs": [],
   "source": [
    "#Evaluate model perfromance \n",
    "ev = MulticlassClassificationEvaluator(\n",
    "    labelCol=\"Outcome\", predictionCol=\"prediction\", metricName=\"accuracy\")\n",
    "accuracy_details  = ev.evaluate(predictions)\n"
   ]
  },
  {
   "cell_type": "code",
   "execution_count": 88,
   "metadata": {},
   "outputs": [
    {
     "name": "stdout",
     "output_type": "stream",
     "text": [
      "Accuracy for XGB model is  71.97 %\n"
     ]
    }
   ],
   "source": [
    "print (\"Accuracy for XGB model is \",round(accuracy_details*100,2) ,'%')\n",
    "\n"
   ]
  },
  {
   "cell_type": "code",
   "execution_count": 101,
   "metadata": {},
   "outputs": [
    {
     "name": "stdout",
     "output_type": "stream",
     "text": [
      "precisoin_details 0.7196652719665272\n"
     ]
    }
   ],
   "source": [
    "ev_precisoin = MulticlassClassificationEvaluator(  labelCol=\"Outcome\", predictionCol=\"prediction\", metricName=\"accuracy\")\n",
    "precisoin_details  = ev_precisoin.evaluate(predictions)\n",
    "print('precisoin_details',precisoin_details)"
   ]
  },
  {
   "cell_type": "code",
   "execution_count": 102,
   "metadata": {},
   "outputs": [
    {
     "name": "stdout",
     "output_type": "stream",
     "text": [
      "precisoin_details % 0.7153159922673588\n"
     ]
    }
   ],
   "source": [
    "ev_precisoin = MulticlassClassificationEvaluator(  labelCol=\"Outcome\", predictionCol=\"prediction\", metricName=\"weightedPrecision\")\n",
    "precisoin_details  = ev_precisoin.evaluate(predictions)\n",
    "print('precisoin_details %' ,precisoin_details)"
   ]
  },
  {
   "cell_type": "code",
   "execution_count": 104,
   "metadata": {},
   "outputs": [
    {
     "name": "stdout",
     "output_type": "stream",
     "text": [
      "recall_details % 0.7153159922673588\n"
     ]
    }
   ],
   "source": [
    "ev_recall = MulticlassClassificationEvaluator(  labelCol=\"Outcome\", predictionCol=\"prediction\", metricName=\"weightedRecall\")\n",
    "recall_details  = ev_precisoin.evaluate(predictions)\n",
    "print('recall_details %' ,recall_details)"
   ]
  },
  {
   "cell_type": "code",
   "execution_count": 106,
   "metadata": {},
   "outputs": [
    {
     "name": "stdout",
     "output_type": "stream",
     "text": [
      "f1_details % 0.7168535111160801\n"
     ]
    }
   ],
   "source": [
    "ev_f1 = MulticlassClassificationEvaluator(  labelCol=\"Outcome\", predictionCol=\"prediction\", metricName=\"f1\")\n",
    "f1_details  = ev_f1.evaluate(predictions)\n",
    "print('f1_details %' ,f1_details)"
   ]
  }
 ],
 "metadata": {
  "kernelspec": {
   "display_name": "Python 3",
   "language": "python",
   "name": "python3"
  },
  "language_info": {
   "codemirror_mode": {
    "name": "ipython",
    "version": 3
   },
   "file_extension": ".py",
   "mimetype": "text/x-python",
   "name": "python",
   "nbconvert_exporter": "python",
   "pygments_lexer": "ipython3",
   "version": "3.7.4"
  }
 },
 "nbformat": 4,
 "nbformat_minor": 4
}
